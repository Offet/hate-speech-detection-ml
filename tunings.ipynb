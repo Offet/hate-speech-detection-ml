{
 "cells": [
  {
   "cell_type": "code",
   "execution_count": 1,
   "metadata": {},
   "outputs": [],
   "source": [
    "import pandas as pd\n",
    "import numpy as np\n",
    "\n",
    "df = pd.read_csv(\"labeled_data.csv\")"
   ]
  },
  {
   "cell_type": "code",
   "execution_count": 2,
   "metadata": {},
   "outputs": [
    {
     "name": "stdout",
     "output_type": "stream",
     "text": [
      "<class 'pandas.core.frame.DataFrame'>\n",
      "RangeIndex: 24783 entries, 0 to 24782\n",
      "Data columns (total 7 columns):\n",
      " #   Column              Non-Null Count  Dtype \n",
      "---  ------              --------------  ----- \n",
      " 0   Unnamed: 0          24783 non-null  int64 \n",
      " 1   count               24783 non-null  int64 \n",
      " 2   hate_speech         24783 non-null  int64 \n",
      " 3   offensive_language  24783 non-null  int64 \n",
      " 4   neither             24783 non-null  int64 \n",
      " 5   class               24783 non-null  int64 \n",
      " 6   tweet               24783 non-null  object\n",
      "dtypes: int64(6), object(1)\n",
      "memory usage: 1.3+ MB\n"
     ]
    },
    {
     "data": {
      "text/plain": [
       "(         Unnamed: 0         count   hate_speech  offensive_language  \\\n",
       " count  24783.000000  24783.000000  24783.000000        24783.000000   \n",
       " mean   12681.192027      3.243473      0.280515            2.413711   \n",
       " std     7299.553863      0.883060      0.631851            1.399459   \n",
       " min        0.000000      3.000000      0.000000            0.000000   \n",
       " 25%     6372.500000      3.000000      0.000000            2.000000   \n",
       " 50%    12703.000000      3.000000      0.000000            3.000000   \n",
       " 75%    18995.500000      3.000000      0.000000            3.000000   \n",
       " max    25296.000000      9.000000      7.000000            9.000000   \n",
       " \n",
       "             neither         class  \n",
       " count  24783.000000  24783.000000  \n",
       " mean       0.549247      1.110277  \n",
       " std        1.113299      0.462089  \n",
       " min        0.000000      0.000000  \n",
       " 25%        0.000000      1.000000  \n",
       " 50%        0.000000      1.000000  \n",
       " 75%        0.000000      1.000000  \n",
       " max        9.000000      2.000000  ,\n",
       " Unnamed: 0            0\n",
       " count                 0\n",
       " hate_speech           0\n",
       " offensive_language    0\n",
       " neither               0\n",
       " class                 0\n",
       " tweet                 0\n",
       " dtype: int64,\n",
       " (24783, 7),\n",
       " None,\n",
       " 0)"
      ]
     },
     "execution_count": 2,
     "metadata": {},
     "output_type": "execute_result"
    }
   ],
   "source": [
    "df.describe(), df.isnull().sum(), df.shape, df.info(), df.duplicated().sum()"
   ]
  },
  {
   "cell_type": "code",
   "execution_count": 3,
   "metadata": {},
   "outputs": [],
   "source": [
    "# drop unnecessary columns\n",
    "df.drop(['Unnamed: 0'],\n",
    "        axis=1, inplace=True)\n",
    "\n",
    "# df.head()"
   ]
  },
  {
   "cell_type": "code",
   "execution_count": 4,
   "metadata": {},
   "outputs": [],
   "source": [
    "import nltk\n",
    "import re\n",
    "\n",
    "from nltk.tokenize import word_tokenize\n",
    "from sklearn.feature_extraction.text import TfidfVectorizer\n",
    "from wordcloud import WordCloud\n",
    "from collections import Counter\n",
    "from sklearn.feature_extraction.text import CountVectorizer\n",
    "from nltk.corpus import stopwords\n"
   ]
  },
  {
   "cell_type": "code",
   "execution_count": 5,
   "metadata": {},
   "outputs": [
    {
     "name": "stderr",
     "output_type": "stream",
     "text": [
      "[nltk_data] Downloading package stopwords to\n",
      "[nltk_data]     C:\\Users\\nuell\\AppData\\Roaming\\nltk_data...\n",
      "[nltk_data]   Package stopwords is already up-to-date!\n"
     ]
    }
   ],
   "source": [
    "nltk.download('stopwords')\n",
    "stop_words = set(stopwords.words('english'))\n",
    "\n",
    "# define a function to clean the tweet column\n",
    "def clean_text(text):\n",
    "    \"\"\"\n",
    "    Function to clean a tweet by removing URLs, mentions, hashtags, punctuation,\n",
    "    converting text to lowercase, and removing stopwords.\n",
    "    \"\"\"\n",
    "    if isinstance (text, str):# to check if the text is a string\n",
    "        text = re.sub(r\"http\\S+|www\\S+|http\\S+\", \"\", text, flags=re.MULTILINE) #remove urls\n",
    "        text = re.sub(r\"\\@\\w+|\\#\", \"\", text) # remove any hashtags or mentions that could be present \n",
    "        text = re.sub(r\"[^\\w\\s]\", \"\", text) # remove anu punctuations\n",
    "        text = text.lower() # convert characters to lowercases\n",
    "        text = \" \" .join([word for word in text.split() if word not in stop_words]) # to remove stopwords\n",
    "    return text\n",
    "\n",
    "\n",
    "# check if the function works\n",
    "df['cleaned_tweet'] = df['tweet'].apply(clean_text)\n",
    "# df.head()"
   ]
  },
  {
   "cell_type": "code",
   "execution_count": 6,
   "metadata": {},
   "outputs": [
    {
     "name": "stderr",
     "output_type": "stream",
     "text": [
      "[nltk_data] Downloading package punkt to\n",
      "[nltk_data]     C:\\Users\\nuell\\AppData\\Roaming\\nltk_data...\n",
      "[nltk_data]   Package punkt is already up-to-date!\n",
      "[nltk_data] Downloading package wordnet to\n",
      "[nltk_data]     C:\\Users\\nuell\\AppData\\Roaming\\nltk_data...\n",
      "[nltk_data]   Package wordnet is already up-to-date!\n"
     ]
    }
   ],
   "source": [
    "from sklearn.decomposition import PCA\n",
    "from nltk.stem import WordNetLemmatizer\n",
    "\n",
    "\n",
    "# Download required NLTK resources\n",
    "nltk.download('punkt')\n",
    "# nltk.download('stopwords')\n",
    "nltk.download('wordnet')\n",
    "\n",
    "# Text Preprocessing Function\n",
    "def preprocess_text(text):\n",
    "    # Tokenization\n",
    "    tokens = word_tokenize(text.lower())\n",
    "    \n",
    "    # Remove stopwords\n",
    "    # stop_words = set(stopwords.words('english'))\n",
    "    # tokens = [token for token in tokens if token not in stop_words]\n",
    "    \n",
    "    # Lemmatization\n",
    "    lemmatizer = WordNetLemmatizer()\n",
    "    tokens = [lemmatizer.lemmatize(token) for token in tokens]\n",
    "    \n",
    "    return ' '.join(tokens)\n",
    "\n",
    "# Apply preprocessing to text column\n",
    "# df['processed_text'] = df['tweet'].apply(preprocess_text)\n",
    "\n",
    "df['cleaned_text'] = df['cleaned_tweet'].apply(preprocess_text)\n",
    "# df.head()\n",
    "\n",
    "\n",
    "\n"
   ]
  },
  {
   "cell_type": "code",
   "execution_count": 7,
   "metadata": {},
   "outputs": [],
   "source": [
    "# Convert text to TF-IDF features\n",
    "vectorizer = TfidfVectorizer(max_df=0.8, max_features=100, stop_words='english')\n",
    "X_vect = vectorizer.fit_transform(df['cleaned_text'])\n",
    "\n",
    "# Apply PCA for dimensionality reduction\n",
    "pca = PCA(n_components=15) \n",
    "X_dense = X_vect.toarray()\n",
    "reduced_features = pca.fit_transform(X_dense)"
   ]
  },
  {
   "cell_type": "code",
   "execution_count": 8,
   "metadata": {},
   "outputs": [],
   "source": [
    "# Handle outliers using IQR method\n",
    "def remove_outliers(X):\n",
    "    Q1 = np.percentile(X, 25, axis=0)\n",
    "    Q3 = np.percentile(X, 75, axis=0)\n",
    "    IQR = Q3 - Q1\n",
    "    outlier_mask = ~((X < (Q1 - 1.5 * IQR)) | (X > (Q3 + 1.5 * IQR))).any(axis=1)\n",
    "    return X[outlier_mask], outlier_mask\n",
    "\n",
    "# Remove outliers\n",
    "X_clean, outlier_mask = remove_outliers(reduced_features)\n",
    "y_clean = df['class'][outlier_mask]"
   ]
  },
  {
   "cell_type": "code",
   "execution_count": 36,
   "metadata": {},
   "outputs": [
    {
     "name": "stdout",
     "output_type": "stream",
     "text": [
      "Logistic Regression Accuracy: 0.7607726597325408\n",
      "              precision    recall  f1-score   support\n",
      "\n",
      "           0       0.50      0.02      0.03       118\n",
      "           1       0.85      0.82      0.84       862\n",
      "           2       0.61      0.86      0.72       366\n",
      "\n",
      "    accuracy                           0.76      1346\n",
      "   macro avg       0.66      0.57      0.53      1346\n",
      "weighted avg       0.76      0.76      0.73      1346\n",
      "\n"
     ]
    }
   ],
   "source": [
    "from sklearn.model_selection import train_test_split\n",
    "from sklearn.preprocessing import StandardScaler\n",
    "from sklearn.linear_model import LogisticRegression\n",
    "from sklearn.ensemble import RandomForestClassifier\n",
    "from sklearn.metrics import classification_report, accuracy_score\n",
    "\n",
    "\n",
    "# Split data\n",
    "X_train, X_test, y_train, y_test = train_test_split(X_clean, y_clean, test_size=0.2, random_state=42)\n",
    "\n",
    "# Scale data for Logistic Regression\n",
    "scaler = StandardScaler()\n",
    "X_train_scaled = scaler.fit_transform(X_train)\n",
    "X_test_scaled = scaler.transform(X_test)\n",
    "\n",
    "# Logistic Regression\n",
    "lr_model = LogisticRegression()\n",
    "lr_model.fit(X_train_scaled, y_train)\n",
    "y_pred_lr = lr_model.predict(X_test_scaled)\n",
    "\n",
    "print(\"Logistic Regression Accuracy:\", accuracy_score(y_test, y_pred_lr))\n",
    "print(classification_report(y_test, y_pred_lr))\n",
    "\n",
    "\n"
   ]
  },
  {
   "cell_type": "code",
   "execution_count": 30,
   "metadata": {},
   "outputs": [
    {
     "name": "stdout",
     "output_type": "stream",
     "text": [
      "Random Forest Accuracy: 0.7726597325408618\n",
      "              precision    recall  f1-score   support\n",
      "\n",
      "           0       0.47      0.08      0.13       118\n",
      "           1       0.86      0.84      0.85       862\n",
      "           2       0.64      0.83      0.72       366\n",
      "\n",
      "    accuracy                           0.77      1346\n",
      "   macro avg       0.66      0.58      0.57      1346\n",
      "weighted avg       0.76      0.77      0.75      1346\n",
      "\n"
     ]
    }
   ],
   "source": [
    "# trying with random forest\n",
    "\n",
    "rf_model = RandomForestClassifier()\n",
    "rf_model.fit(X_train, y_train)\n",
    "y_pred_rf = rf_model.predict(X_test)\n",
    "\n",
    "print(\"Random Forest Accuracy:\", accuracy_score(y_test, y_pred_rf))\n",
    "print(classification_report(y_test, y_pred_rf))"
   ]
  },
  {
   "cell_type": "code",
   "execution_count": 38,
   "metadata": {},
   "outputs": [
    {
     "name": "stdout",
     "output_type": "stream",
     "text": [
      "Best Random Forest Parameters: {'max_depth': 10, 'max_features': 'sqrt', 'min_samples_leaf': 4, 'min_samples_split': 2, 'n_estimators': 250}\n",
      "Random Forest Accuracy: 0.7652303120356612\n",
      "              precision    recall  f1-score   support\n",
      "\n",
      "           0       0.33      0.02      0.03       118\n",
      "           1       0.85      0.84      0.84       862\n",
      "           2       0.63      0.84      0.72       366\n",
      "\n",
      "    accuracy                           0.77      1346\n",
      "   macro avg       0.60      0.56      0.53      1346\n",
      "weighted avg       0.74      0.77      0.74      1346\n",
      "\n"
     ]
    }
   ],
   "source": [
    "from sklearn.model_selection import GridSearchCV\n",
    "\n",
    "# Hyperparameter tuning for Random Forest\n",
    "rf_param_grid = {\n",
    "    'n_estimators': [150, 200, 250, 300], \n",
    "    'max_depth': [None, 10, 20, 30],  \n",
    "    'min_samples_split': [2, 5, 10],  \n",
    "    'min_samples_leaf': [1, 2, 4],  \n",
    "    'max_features': ['sqrt', 'log2']  \n",
    "}\n",
    "rf_grid = GridSearchCV(RandomForestClassifier(random_state=42), rf_param_grid, cv=5, scoring='accuracy')\n",
    "rf_grid.fit(X_train, y_train)\n",
    "\n",
    "# Best Random Forest model\n",
    "best_rf_model = rf_grid.best_estimator_\n",
    "y_pred_rf = best_rf_model.predict(X_test)\n",
    "\n",
    "print(\"Best Random Forest Parameters:\", rf_grid.best_params_)\n",
    "print(\"Random Forest Accuracy:\", accuracy_score(y_test, y_pred_rf))\n",
    "print(classification_report(y_test, y_pred_rf))\n"
   ]
  },
  {
   "cell_type": "code",
   "execution_count": null,
   "metadata": {},
   "outputs": [],
   "source": []
  }
 ],
 "metadata": {
  "kernelspec": {
   "display_name": "my_env",
   "language": "python",
   "name": "python3"
  },
  "language_info": {
   "codemirror_mode": {
    "name": "ipython",
    "version": 3
   },
   "file_extension": ".py",
   "mimetype": "text/x-python",
   "name": "python",
   "nbconvert_exporter": "python",
   "pygments_lexer": "ipython3",
   "version": "3.10.14"
  }
 },
 "nbformat": 4,
 "nbformat_minor": 2
}
